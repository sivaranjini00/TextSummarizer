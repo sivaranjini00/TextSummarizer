{
 "cells": [
  {
   "cell_type": "code",
   "execution_count": 1,
   "id": "df2b4af3",
   "metadata": {},
   "outputs": [
    {
     "data": {
      "text/plain": [
       "2"
      ]
     },
     "execution_count": 1,
     "metadata": {},
     "output_type": "execute_result"
    }
   ],
   "source": [
    "1+1"
   ]
  },
  {
   "cell_type": "code",
   "execution_count": 2,
   "id": "4bbe1b66",
   "metadata": {},
   "outputs": [
    {
     "data": {
      "text/plain": [
       "'e:\\\\MLOPS\\\\TextSummarizer\\\\research'"
      ]
     },
     "execution_count": 2,
     "metadata": {},
     "output_type": "execute_result"
    }
   ],
   "source": [
    "import os\n",
    "%pwd"
   ]
  },
  {
   "cell_type": "code",
   "execution_count": 3,
   "id": "52577298",
   "metadata": {},
   "outputs": [
    {
     "data": {
      "text/plain": [
       "'e:\\\\MLOPS\\\\TextSummarizer'"
      ]
     },
     "execution_count": 3,
     "metadata": {},
     "output_type": "execute_result"
    }
   ],
   "source": [
    "os.chdir('../')\n",
    "%pwd"
   ]
  },
  {
   "cell_type": "code",
   "execution_count": 35,
   "id": "b08b982a",
   "metadata": {},
   "outputs": [],
   "source": [
    "from dataclasses import dataclass\n",
    "from pathlib import Path\n",
    "\n",
    "@dataclass\n",
    "class DataIngestionConfig:\n",
    "    root_dir: Path\n",
    "    source_URL: Path\n",
    "    local_data_file: Path\n",
    "    unzip_dir: Path"
   ]
  },
  {
   "cell_type": "code",
   "execution_count": 37,
   "id": "06c5d989",
   "metadata": {},
   "outputs": [],
   "source": [
    "from src.textSummarizer.constants import*\n",
    "from src.textSummarizer.utils.common import read_yaml,create_directories"
   ]
  },
  {
   "cell_type": "code",
   "execution_count": 38,
   "id": "c1957f67",
   "metadata": {},
   "outputs": [],
   "source": [
    "class ConfigurationManager:\n",
    "    def __init__(self, \n",
    "                 config_path=CONFIG_FILE_PATH, \n",
    "                 params_filepath=PARAMS_FILE_PATH):\n",
    "        self.config = read_yaml(config_path)\n",
    "        self.params = read_yaml(params_filepath)\n",
    "\n",
    "        create_directories([self.config.artifacts_root])\n",
    "\n",
    "    def get_data_ingestion_config(self) -> DataIngestionConfig:\n",
    "        config = self.config.data_ingestion\n",
    "\n",
    "        create_directories([config.root_dir])\n",
    "\n",
    "        data_ingestion_config = DataIngestionConfig(\n",
    "            root_dir=config.root_dir,\n",
    "            source_URL=config.source_URL,\n",
    "            local_data_file=config.local_data_file,\n",
    "            unzip_dir=config.unzip_dir\n",
    "        )\n",
    "        return data_ingestion_config\n",
    "        \n",
    "        \n",
    "    \n",
    "                "
   ]
  },
  {
   "cell_type": "code",
   "execution_count": 39,
   "id": "0fbd991d",
   "metadata": {},
   "outputs": [],
   "source": [
    "import os\n",
    "import urllib.request as request\n",
    "import zipfile\n",
    "from src.textSummarizer.logging import logger\n"
   ]
  },
  {
   "cell_type": "markdown",
   "id": "385d01ad",
   "metadata": {},
   "source": [
    "### COMPONENTS"
   ]
  },
  {
   "cell_type": "code",
   "execution_count": 40,
   "id": "0a6da2f3",
   "metadata": {},
   "outputs": [],
   "source": [
    "class DataIngestion:\n",
    "    def __init__(self, config: DataIngestionConfig):\n",
    "        self.config = config\n",
    "\n",
    "    def download_file(self):\n",
    "        if not os.path.exists(self.config.local_data_file):\n",
    "            filename, headers = request.urlretrieve(\n",
    "                url=self.config.source_URL,\n",
    "                filename=self.config.local_data_file\n",
    "            )\n",
    "            logger.info(f\"File downloaded successfully\")\n",
    "        else:\n",
    "            logger.info(\"File already exists\")\n",
    "\n",
    "    \n",
    "    def extract_zip_file(self):\n",
    "        \"\"\"\n",
    "        Extracts the zip file into the data directory.\n",
    "        Function returns None\n",
    "        \"\"\"\n",
    "        unzip_path = self.config.unzip_dir\n",
    "        os.makedirs(unzip_path, exist_ok=True)\n",
    "\n",
    "        with zipfile.ZipFile(self.config.local_data_file, 'r') as zip_ref:\n",
    "            zip_ref.extractall(unzip_path)\n",
    "          \n"
   ]
  },
  {
   "cell_type": "code",
   "execution_count": 41,
   "id": "2745d824",
   "metadata": {},
   "outputs": [
    {
     "name": "stdout",
     "output_type": "stream",
     "text": [
      "[2025-09-06 13:40:28,727: INFO: common]: yaml file: config\\config.yaml loaded successfully\n",
      "[2025-09-06 13:40:28,731: INFO: common]: yaml file: params.yaml loaded successfully\n",
      "[2025-09-06 13:40:28,734: INFO: common]: Created directory at: artifacts\n",
      "[2025-09-06 13:40:28,735: INFO: common]: Created directory at: artifacts/data_ingestion\n",
      "[2025-09-06 13:41:05,396: INFO: 3505038015]: File downloaded successfully\n"
     ]
    }
   ],
   "source": [
    "config=ConfigurationManager()\n",
    "data_ingestion_config=config.get_data_ingestion_config()\n",
    "data_ingestion=DataIngestion(config=data_ingestion_config)\n",
    "\n",
    "data_ingestion.download_file()\n",
    "data_ingestion.extract_zip_file()"
   ]
  },
  {
   "cell_type": "code",
   "execution_count": null,
   "id": "8c7a5660",
   "metadata": {},
   "outputs": [],
   "source": []
  }
 ],
 "metadata": {
  "kernelspec": {
   "display_name": ".venv (3.10.0)",
   "language": "python",
   "name": "python3"
  },
  "language_info": {
   "codemirror_mode": {
    "name": "ipython",
    "version": 3
   },
   "file_extension": ".py",
   "mimetype": "text/x-python",
   "name": "python",
   "nbconvert_exporter": "python",
   "pygments_lexer": "ipython3",
   "version": "3.10.0"
  }
 },
 "nbformat": 4,
 "nbformat_minor": 5
}
